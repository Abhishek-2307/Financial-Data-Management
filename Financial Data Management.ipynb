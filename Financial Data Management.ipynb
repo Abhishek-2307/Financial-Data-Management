{
 "cells": [
  {
   "cell_type": "markdown",
   "metadata": {},
   "source": [
    "### Importing  Modules"
   ]
  },
  {
   "cell_type": "code",
   "execution_count": 27,
   "metadata": {},
   "outputs": [],
   "source": [
    "import pandas as pd\n",
    "import numpy as np\n",
    "%matplotlib inline\n",
    "import matplotlib.pyplot as plt\n",
    "import seaborn as sns\n",
    "import pandas_datareader as DataReader\n",
    "from datetime import date"
   ]
  },
  {
   "cell_type": "code",
   "execution_count": 2,
   "metadata": {},
   "outputs": [
    {
     "name": "stdout",
     "output_type": "stream",
     "text": [
      "  Stock Symbol           Company Name  Last Sale  Market Capitalization  \\\n",
      "0         AAPL             Apple Inc.     141.05           7.400000e+11   \n",
      "1        GOOGL          Alphabet Inc.     840.18           5.810000e+11   \n",
      "2         GOOG          Alphabet Inc.     823.56           5.690000e+11   \n",
      "3         MSFT  Microsoft Corporation      64.95           5.020000e+11   \n",
      "4         AMZN       Amazon.com, Inc.     884.67           4.220000e+11   \n",
      "5           FB         Facebook, Inc.     139.39           4.030000e+11   \n",
      "6        CMCSA    Comcast Corporation      37.14           1.760000e+11   \n",
      "7         INTC      Intel Corporation      35.25           1.660000e+11   \n",
      "8         CSCO    Cisco Systems, Inc.      32.42           1.620000e+11   \n",
      "9         AMGN             Amgen Inc.     161.61           1.190000e+11   \n",
      "\n",
      "  IPO Year             Sector  \\\n",
      "0     1980         Technology   \n",
      "1      NAN         Technology   \n",
      "2     2004         Technology   \n",
      "3     1986         Technology   \n",
      "4     1997  Consumer Services   \n",
      "5     2012         Technology   \n",
      "6      NAN  Consumer Services   \n",
      "7      NAN         Technology   \n",
      "8     1990         Technology   \n",
      "9     1983        Health Care   \n",
      "\n",
      "                                            Industry Last Update  \n",
      "0                             Computer Manufacturing     4/26/17  \n",
      "1    Computer Software: Programming, Data Processing     4/24/17  \n",
      "2    Computer Software: Programming, Data Processing     4/23/17  \n",
      "3            Computer Software: Prepackaged Software     4/26/17  \n",
      "4                     Catalog/Specialty Distribution     4/24/17  \n",
      "5    Computer Software: Programming, Data Processing     4/26/17  \n",
      "6                                Television Services     4/26/17  \n",
      "7                                     Semiconductors     4/23/17  \n",
      "8                  Computer Communications Equipment     4/23/17  \n",
      "9  Biotechnology: Biological Products (No Diagnos...     4/24/17  \n",
      "<class 'pandas.core.frame.DataFrame'>\n",
      "RangeIndex: 1115 entries, 0 to 1114\n",
      "Data columns (total 8 columns):\n",
      "Stock Symbol             1115 non-null object\n",
      "Company Name             1115 non-null object\n",
      "Last Sale                1115 non-null float64\n",
      "Market Capitalization    1115 non-null float64\n",
      "IPO Year                 1115 non-null object\n",
      "Sector                   1115 non-null object\n",
      "Industry                 1115 non-null object\n",
      "Last Update              1115 non-null object\n",
      "dtypes: float64(2), object(6)\n",
      "memory usage: 69.8+ KB\n"
     ]
    }
   ],
   "source": [
    "# Import the data\n",
    "nasdaq = pd.read_csv('nasdaq-listings.csv')\n",
    "\n",
    "# Display first 10 rows\n",
    "print(nasdaq.head(10))\n",
    "\n",
    "# Inspect nasdaq\n",
    "nasdaq.info()"
   ]
  },
  {
   "cell_type": "code",
   "execution_count": 3,
   "metadata": {},
   "outputs": [
    {
     "name": "stdout",
     "output_type": "stream",
     "text": [
      "  Stock Symbol           Company Name  Last Sale  Market Capitalization  \\\n",
      "0         AAPL             Apple Inc.     141.05           7.400000e+11   \n",
      "1        GOOGL          Alphabet Inc.     840.18           5.810000e+11   \n",
      "2         GOOG          Alphabet Inc.     823.56           5.690000e+11   \n",
      "3         MSFT  Microsoft Corporation      64.95           5.020000e+11   \n",
      "4         AMZN       Amazon.com, Inc.     884.67           4.220000e+11   \n",
      "\n",
      "   IPO Year             Sector  \\\n",
      "0    1980.0         Technology   \n",
      "1       NaN         Technology   \n",
      "2    2004.0         Technology   \n",
      "3    1986.0         Technology   \n",
      "4    1997.0  Consumer Services   \n",
      "\n",
      "                                          Industry Last Update  \n",
      "0                           Computer Manufacturing  2017-04-26  \n",
      "1  Computer Software: Programming, Data Processing  2017-04-24  \n",
      "2  Computer Software: Programming, Data Processing  2017-04-23  \n",
      "3          Computer Software: Prepackaged Software  2017-04-26  \n",
      "4                   Catalog/Specialty Distribution  2017-04-24  \n",
      "<class 'pandas.core.frame.DataFrame'>\n",
      "RangeIndex: 1115 entries, 0 to 1114\n",
      "Data columns (total 8 columns):\n",
      "Stock Symbol             1115 non-null object\n",
      "Company Name             1115 non-null object\n",
      "Last Sale                1115 non-null float64\n",
      "Market Capitalization    1115 non-null float64\n",
      "IPO Year                 593 non-null float64\n",
      "Sector                   1036 non-null object\n",
      "Industry                 1036 non-null object\n",
      "Last Update              1115 non-null datetime64[ns]\n",
      "dtypes: datetime64[ns](1), float64(3), object(4)\n",
      "memory usage: 69.8+ KB\n"
     ]
    }
   ],
   "source": [
    "# Import the data\n",
    "nasdaq = pd.read_csv('nasdaq-listings.csv', na_values='NAN', parse_dates=['Last Update'])\n",
    "\n",
    "# Display the head of the data\n",
    "print(nasdaq.head())\n",
    "\n",
    "# Inspect the data\n",
    "nasdaq.info()"
   ]
  },
  {
   "cell_type": "markdown",
   "metadata": {},
   "source": [
    "### Load listing info from a single sheet\n",
    "\n",
    "you can import data from a sheet of an Excel file with the pd.read_excel() function by assigning the optional sheetname argument to an integer indicating its position or a string containing its name."
   ]
  },
  {
   "cell_type": "code",
   "execution_count": 4,
   "metadata": {},
   "outputs": [
    {
     "name": "stdout",
     "output_type": "stream",
     "text": [
      "  Stock Symbol            Company Name  Last Sale  Market Capitalization  \\\n",
      "0          DDD  3D Systems Corporation      14.48           1.647165e+09   \n",
      "1          MMM              3M Company     188.65           1.127366e+11   \n",
      "2         WBAI         500.com Limited      13.96           5.793129e+08   \n",
      "3         WUBA             58.com Inc.      36.11           5.225238e+09   \n",
      "4          AHC   A.H. Belo Corporation       6.20           1.347351e+08   \n",
      "\n",
      "   IPO Year             Sector  \\\n",
      "0       NaN         Technology   \n",
      "1       NaN        Health Care   \n",
      "2    2013.0  Consumer Services   \n",
      "3    2013.0         Technology   \n",
      "4       NaN  Consumer Services   \n",
      "\n",
      "                                          Industry  \n",
      "0          Computer Software: Prepackaged Software  \n",
      "1                       Medical/Dental Instruments  \n",
      "2            Services-Misc. Amusement & Recreation  \n",
      "3  Computer Software: Programming, Data Processing  \n",
      "4                             Newspapers/Magazines  \n",
      "<class 'pandas.core.frame.DataFrame'>\n",
      "RangeIndex: 3147 entries, 0 to 3146\n",
      "Data columns (total 7 columns):\n",
      "Stock Symbol             3147 non-null object\n",
      "Company Name             3147 non-null object\n",
      "Last Sale                3079 non-null float64\n",
      "Market Capitalization    3147 non-null float64\n",
      "IPO Year                 1361 non-null float64\n",
      "Sector                   2177 non-null object\n",
      "Industry                 2177 non-null object\n",
      "dtypes: float64(3), object(4)\n",
      "memory usage: 172.2+ KB\n"
     ]
    }
   ],
   "source": [
    "# Import the data\n",
    "nyse = pd.read_excel('listings.xlsx', sheetname='nyse', na_values='n/a')\n",
    "\n",
    "# Display the head of the data\n",
    "print(nyse.head())\n",
    "\n",
    "# Inspect the data\n",
    "nyse.info()"
   ]
  },
  {
   "cell_type": "markdown",
   "metadata": {},
   "source": [
    "### Load listing data from two sheets\n",
    "\n",
    "The import process is just as intuitive when using the sheet_names attribute of a pd.ExcelFile() object.\n",
    "\n",
    "Passing in a list as the sheetname argument of pd.read_excel(), whether you assign the list to a variable holding the sheet_names attribute of a pd.ExcelFile() object or type the list out yourself, constructs a dictionary. In this dictionary, the keys are the names of the sheets, and the values are the DataFrames containing the data from the corresponding sheet. You can extract values from a dictionary by providing a particular key in brackets."
   ]
  },
  {
   "cell_type": "code",
   "execution_count": 5,
   "metadata": {},
   "outputs": [
    {
     "name": "stdout",
     "output_type": "stream",
     "text": [
      "<class 'pandas.core.frame.DataFrame'>\n",
      "RangeIndex: 3167 entries, 0 to 3166\n",
      "Data columns (total 7 columns):\n",
      "Stock Symbol             3167 non-null object\n",
      "Company Name             3167 non-null object\n",
      "Last Sale                3165 non-null float64\n",
      "Market Capitalization    3167 non-null float64\n",
      "IPO Year                 1386 non-null float64\n",
      "Sector                   2767 non-null object\n",
      "Industry                 2767 non-null object\n",
      "dtypes: float64(3), object(4)\n",
      "memory usage: 173.3+ KB\n"
     ]
    }
   ],
   "source": [
    "# Create pd.ExcelFile() object\n",
    "xls = pd.ExcelFile('listings.xlsx')\n",
    "\n",
    "# Extract sheet names and store in exchanges\n",
    "exchanges = xls.sheet_names\n",
    "\n",
    "# Create listings dictionary with all sheet data\n",
    "listings = pd.read_excel(xls, sheetname=exchanges, na_values='n/a')\n",
    "\n",
    "# Inspect NASDAQ listings\n",
    "listings['nasdaq'].info()"
   ]
  },
  {
   "cell_type": "markdown",
   "metadata": {},
   "source": [
    "### Load all listing data and iterate over key-value dictionary pairs"
   ]
  },
  {
   "cell_type": "code",
   "execution_count": 6,
   "metadata": {},
   "outputs": [
    {
     "name": "stdout",
     "output_type": "stream",
     "text": [
      "<class 'pandas.core.frame.DataFrame'>\n",
      "RangeIndex: 3147 entries, 0 to 3146\n",
      "Data columns (total 7 columns):\n",
      "Stock Symbol             3147 non-null object\n",
      "Company Name             3147 non-null object\n",
      "Last Sale                3079 non-null float64\n",
      "Market Capitalization    3147 non-null float64\n",
      "IPO Year                 1361 non-null float64\n",
      "Sector                   2177 non-null object\n",
      "Industry                 2177 non-null object\n",
      "dtypes: float64(3), object(4)\n",
      "memory usage: 172.2+ KB\n",
      "<class 'pandas.core.frame.DataFrame'>\n",
      "RangeIndex: 3167 entries, 0 to 3166\n",
      "Data columns (total 7 columns):\n",
      "Stock Symbol             3167 non-null object\n",
      "Company Name             3167 non-null object\n",
      "Last Sale                3165 non-null float64\n",
      "Market Capitalization    3167 non-null float64\n",
      "IPO Year                 1386 non-null float64\n",
      "Sector                   2767 non-null object\n",
      "Industry                 2767 non-null object\n",
      "dtypes: float64(3), object(4)\n",
      "memory usage: 173.3+ KB\n"
     ]
    }
   ],
   "source": [
    "# Import the NYSE and NASDAQ listings\n",
    "nyse = pd.read_excel('listings.xlsx', sheetname='nyse', na_values='n/a')\n",
    "nasdaq = pd.read_excel('listings.xlsx', sheetname='nasdaq', na_values='n/a')\n",
    "\n",
    "# Inspect nyse and nasdaq\n",
    "nyse.info()\n",
    "nasdaq.info()\n",
    "\n",
    "# Add Exchange reference columns\n",
    "nyse['Exchange'] = 'NYSE'\n",
    "nasdaq['Exchange'] = 'NASDAQ'\n",
    "\n",
    "# Concatenate DataFrames  \n",
    "combined_listings = pd.concat([nyse, nasdaq])"
   ]
  },
  {
   "cell_type": "markdown",
   "metadata": {},
   "source": [
    "### Automate the loading and combining of data from multiple Excel worksheets\n",
    "\n",
    "1. Retrieve the sheet names of a pd.ExcelFile() object using its sheet_names attribute.\n",
    "2. Create an empty list.\n",
    "3. Write a for loop that iterates through these sheet names to read the data from the corresponding sheet name in the Excel file into a variable. Add a reference column, if desired. Append the contents of this variable to the list with each iteration.\n",
    "4. Concatenate the DataFrames in the list."
   ]
  },
  {
   "cell_type": "code",
   "execution_count": 7,
   "metadata": {},
   "outputs": [
    {
     "name": "stdout",
     "output_type": "stream",
     "text": [
      "<class 'pandas.core.frame.DataFrame'>\n",
      "Int64Index: 6674 entries, 0 to 3146\n",
      "Data columns (total 8 columns):\n",
      "Stock Symbol             6674 non-null object\n",
      "Company Name             6674 non-null object\n",
      "Last Sale                6590 non-null float64\n",
      "Market Capitalization    6674 non-null float64\n",
      "IPO Year                 2852 non-null float64\n",
      "Sector                   5182 non-null object\n",
      "Industry                 5182 non-null object\n",
      "Exchange                 6674 non-null object\n",
      "dtypes: float64(3), object(5)\n",
      "memory usage: 469.3+ KB\n"
     ]
    }
   ],
   "source": [
    "# Create the pd.ExcelFile() object\n",
    "xls = pd.ExcelFile('listings.xlsx')\n",
    "\n",
    "# Extract the sheet names from xls\n",
    "exchanges = xls.sheet_names\n",
    "\n",
    "# Create an empty list: listings\n",
    "listings = []\n",
    "\n",
    "# Import the data\n",
    "for exchange in exchanges:\n",
    "    listing = pd.read_excel(xls, sheetname=exchange, na_values='n/a')\n",
    "    listing['Exchange'] = exchange\n",
    "    listings.append(listing)\n",
    "\n",
    "# Concatenate the listings: listing_data\n",
    "listing_data = pd.concat(listings)\n",
    "\n",
    "# Inspect the results\n",
    "listing_data.info()"
   ]
  },
  {
   "cell_type": "markdown",
   "metadata": {},
   "source": [
    "### Get stock data for a single company\n",
    "\n",
    "Retrieving stock price data from Google Finance is simple after importing the DataReader package and using the start and/or end arguments in form date(YYYY, MM, DD):"
   ]
  },
  {
   "cell_type": "markdown",
   "metadata": {},
   "source": [
    "### Economic Data from Federal Reserve"
   ]
  },
  {
   "cell_type": "code",
   "execution_count": 34,
   "metadata": {},
   "outputs": [
    {
     "name": "stdout",
     "output_type": "stream",
     "text": [
      "<class 'pandas.core.frame.DataFrame'>\n",
      "DatetimeIndex: 14893 entries, 1962-01-02 to 2019-01-31\n",
      "Data columns (total 1 columns):\n",
      "DGS10    14255 non-null float64\n",
      "dtypes: float64(1)\n",
      "memory usage: 232.7 KB\n"
     ]
    }
   ],
   "source": [
    "from pandas_datareader.data import DataReader\n",
    "\n",
    "from datetime import  date\n",
    "series_code = 'DGS10' #10-year treasury rate\n",
    "data_source = 'fred' # Fed Economic data Source\n",
    "\n",
    "start = date(1962,1,1)\n",
    "data = DataReader(series_code,data_source,start)\n",
    "data.info()"
   ]
  },
  {
   "cell_type": "code",
   "execution_count": 36,
   "metadata": {},
   "outputs": [
    {
     "data": {
      "image/png": "[encoded data removed]",
      "text/plain": [
       "<matplotlib.figure.Figure at 0x2ce1784c860>"
      ]
     },
     "metadata": {},
     "output_type": "display_data"
    }
   ],
   "source": [
    "series_name = '10 Year Treasury'\n",
    "data = data.rename(columns={series_code:series_name})\n",
    "data.plot(title=series_name)\n",
    "plt.show()"
   ]
  },
  {
   "cell_type": "markdown",
   "metadata": {},
   "source": [
    "### Visualize the long-term gold price trend\n",
    "\n",
    "new data source to visualize the gold price trend over the last 50 years, specifically, the Gold Fixing Price 10:30 AM (London time) in London Bullion Market, in US Dollars."
   ]
  },
  {
   "cell_type": "code",
   "execution_count": 39,
   "metadata": {},
   "outputs": [
    {
     "name": "stdout",
     "output_type": "stream",
     "text": [
      "<class 'pandas.core.frame.DataFrame'>\n",
      "DatetimeIndex: 13265 entries, 1968-04-01 to 2019-02-01\n",
      "Data columns (total 1 columns):\n",
      "GOLDAMGBD228NLBM    12856 non-null float64\n",
      "dtypes: float64(1)\n",
      "memory usage: 207.3 KB\n"
     ]
    },
    {
     "data": {
      "image/png": "[encoded data removed]",
      "text/plain": [
       "<matplotlib.figure.Figure at 0x2ce17ab62e8>"
      ]
     },
     "metadata": {},
     "output_type": "display_data"
    }
   ],
   "source": [
    "# Set start date\n",
    "start = date(1968, 1, 1)\n",
    "\n",
    "series = 'GOLDAMGBD228NLBM'\n",
    "\n",
    "# Import the data\n",
    "gold_price = DataReader(series, 'fred', start=start)\n",
    "\n",
    "# Inspect the price of gold\n",
    "gold_price.info()\n",
    "\n",
    "# Plot the price of gold\n",
    "gold_price.plot(title='Gold Price')\n",
    "\n",
    "# Show the plot\n",
    "plt.show()"
   ]
  },
  {
   "cell_type": "markdown",
   "metadata": {},
   "source": [
    "### Compare labor market participation and unemployment rates\n",
    "\n",
    "Two economic data series in FRED are the Civilian Unemployment Rate ('UNRATE') and the Civilian Labor Force Participation Rate ('CIVPART').\n",
    "\n",
    "These rates highlight two important aspects of the US labor market: the share of the civilian population that is currently unemployed or seeking employment, and the share of those active in the labor market that are in fact employed.\n",
    "\n",
    "This means that the numbers indicate both the size of the labor market relative to the total population, as well as the size of unemployment relative to the labor market."
   ]
  },
  {
   "cell_type": "code",
   "execution_count": 40,
   "metadata": {},
   "outputs": [
    {
     "data": {
      "image/png": "[encoded data removed]",
      "text/plain": [
       "<matplotlib.figure.Figure at 0x2ce1794c940>"
      ]
     },
     "metadata": {},
     "output_type": "display_data"
    }
   ],
   "source": [
    "# Set the start date\n",
    "start = date(1950, 1, 1)\n",
    "\n",
    "# Define the series code\n",
    "series = ['UNRATE', 'CIVPART']\n",
    "\n",
    "# Import the data\n",
    "econ_data = DataReader(series, 'fred', start)\n",
    "\n",
    "# Assign new column labels\n",
    "econ_data.columns = ['Unemployment Rate', 'Participation Rate']\n",
    "\n",
    "# Plot econ_data\n",
    "econ_data.plot(subplots=True, title='Labor Market')\n",
    "\n",
    "# Show the plot\n",
    "plt.show()"
   ]
  },
  {
   "cell_type": "markdown",
   "metadata": {},
   "source": [
    "### Compare bond and stock performance\n",
    "\n",
    "Bonds and stocks are the most important investment alternatives. Now that you can import data from both the Federal Reserve and Google Finance, you can compare the performance of both asset classes. You'll be using a Total Return Index for each class, which accounts for returns due to both price increases and payments like interest or dividends.\n",
    "\n",
    "For bonds, you'll use the Bank of America Merrill Lynch US High Yield Total Return Index Value ('BAMLHYH0A0HYM2TRIV'). For stocks, you'll use the S&P 500 Index ('SP500'). Both are available for the past 10 years from the Federal Reserve's FRED service."
   ]
  },
  {
   "cell_type": "code",
   "execution_count": 41,
   "metadata": {},
   "outputs": [
    {
     "data": {
      "image/png": "[encoded data removed]",
      "text/plain": [
       "<matplotlib.figure.Figure at 0x2ce17914a90>"
      ]
     },
     "metadata": {},
     "output_type": "display_data"
    }
   ],
   "source": [
    "# Set the start date\n",
    "start = date(2008, 1, 1)\n",
    "\n",
    "# Set the series code\n",
    "series = ['BAMLHYH0A0HYM2TRIV', 'SP500']\n",
    "\n",
    "# Import the data\n",
    "data = DataReader(series, 'fred', start)\n",
    "\n",
    "# Plot the results\n",
    "data.plot(subplots=True, title='Performance Comparison')\n",
    "\n",
    "# Show the plot\n",
    "plt.show()"
   ]
  },
  {
   "cell_type": "markdown",
   "metadata": {},
   "source": [
    "### Get ticker for largest company"
   ]
  },
  {
   "cell_type": "code",
   "execution_count": 43,
   "metadata": {},
   "outputs": [
    {
     "data": {
      "text/html": [
       "<div>\n",
       "<style>\n",
       "    .dataframe thead tr:only-child th {\n",
       "        text-align: right;\n",
       "    }\n",
       "\n",
       "    .dataframe thead th {\n",
       "        text-align: left;\n",
       "    }\n",
       "\n",
       "    .dataframe tbody tr th {\n",
       "        vertical-align: top;\n",
       "    }\n",
       "</style>\n",
       "<table border=\"1\" class=\"dataframe\">\n",
       "  <thead>\n",
       "    <tr style=\"text-align: right;\">\n",
       "      <th></th>\n",
       "      <th>Stock Symbol</th>\n",
       "      <th>Company Name</th>\n",
       "    </tr>\n",
       "  </thead>\n",
       "  <tbody>\n",
       "    <tr>\n",
       "      <th>1586</th>\n",
       "      <td>JNJ</td>\n",
       "      <td>Johnson &amp; Johnson</td>\n",
       "    </tr>\n",
       "    <tr>\n",
       "      <th>1125</th>\n",
       "      <td>XOM</td>\n",
       "      <td>Exxon Mobil Corporation</td>\n",
       "    </tr>\n",
       "    <tr>\n",
       "      <th>1548</th>\n",
       "      <td>JPM</td>\n",
       "      <td>J P Morgan Chase &amp; Co</td>\n",
       "    </tr>\n",
       "    <tr>\n",
       "      <th>80</th>\n",
       "      <td>BABA</td>\n",
       "      <td>Alibaba Group Holding Limited</td>\n",
       "    </tr>\n",
       "    <tr>\n",
       "      <th>1280</th>\n",
       "      <td>GE</td>\n",
       "      <td>General Electric Company</td>\n",
       "    </tr>\n",
       "  </tbody>\n",
       "</table>\n",
       "</div>"
      ],
      "text/plain": [
       "     Stock Symbol                   Company Name\n",
       "1586          JNJ              Johnson & Johnson\n",
       "1125          XOM        Exxon Mobil Corporation\n",
       "1548          JPM          J P Morgan Chase & Co\n",
       "80           BABA  Alibaba Group Holding Limited\n",
       "1280           GE       General Electric Company"
      ]
     },
     "execution_count": 43,
     "metadata": {},
     "output_type": "execute_result"
    }
   ],
   "source": [
    "nyse = nyse.sort_values('Market Capitalization', ascending=False)\n",
    "nyse[['Stock Symbol', 'Company Name']].head()"
   ]
  },
  {
   "cell_type": "code",
   "execution_count": 44,
   "metadata": {},
   "outputs": [
    {
     "data": {
      "text/plain": [
       "array(['Health Care', 'Energy', 'Finance', 'Miscellaneous',\n",
       "       'Public Utilities', 'Basic Industries', 'Consumer Services',\n",
       "       'Consumer Non-Durables', 'Technology', 'Capital Goods',\n",
       "       'Transportation', 'Consumer Durables', nan], dtype=object)"
      ]
     },
     "execution_count": 44,
     "metadata": {},
     "output_type": "execute_result"
    }
   ],
   "source": [
    "nyse['Sector'].unique()"
   ]
  },
  {
   "cell_type": "code",
   "execution_count": 45,
   "metadata": {
    "collapsed": true
   },
   "outputs": [],
   "source": [
    "tech = nyse.loc[nyse.Sector=='Technology']"
   ]
  },
  {
   "cell_type": "code",
   "execution_count": 49,
   "metadata": {},
   "outputs": [
    {
     "data": {
      "text/plain": [
       "2144                                 Oracle Corporation\n",
       "2692    Taiwan Semiconductor Manufacturing Company Ltd.\n",
       "Name: Company Name, dtype: object"
      ]
     },
     "execution_count": 49,
     "metadata": {},
     "output_type": "execute_result"
    }
   ],
   "source": [
    "tech['Company Name'].head(2)"
   ]
  },
  {
   "cell_type": "code",
   "execution_count": 50,
   "metadata": {},
   "outputs": [
    {
     "data": {
      "text/plain": [
       "2144"
      ]
     },
     "execution_count": 50,
     "metadata": {},
     "output_type": "execute_result"
    }
   ],
   "source": [
    "nyse.loc[nyse.Sector=='Technology','Market Capitalization'].idxmax()"
   ]
  },
  {
   "cell_type": "code",
   "execution_count": 51,
   "metadata": {
    "collapsed": true
   },
   "outputs": [],
   "source": [
    "ticker = nyse.loc[(nyse.Sector=='Technology')&\n",
    "                 (nyse['IPO Year']==2017 ),\n",
    "                 'Market Capitalization'].idxmax()"
   ]
  },
  {
   "cell_type": "markdown",
   "metadata": {},
   "source": [
    "### Top 5 listed consumer companies\n",
    "\n",
    "Here, you will use this function to find out the five most valuable companies in the Consumer Services sector. This is measured with market capitalization, or the combined value of all shares in a company."
   ]
  },
  {
   "cell_type": "code",
   "execution_count": 55,
   "metadata": {},
   "outputs": [
    {
     "name": "stdout",
     "output_type": "stream",
     "text": [
      "                   Company Name Exchange  Market Capitalization\n",
      "4              Amazon.com, Inc.   nasdaq           4.221385e+11\n",
      "3013      Wal-Mart Stores, Inc.     nyse           2.218646e+11\n",
      "3014  Walt Disney Company (The)     nyse           1.789973e+11\n",
      "6           Comcast Corporation   nasdaq           1.764745e+11\n",
      "1438     Home Depot, Inc. (The)     nyse           1.752626e+11\n"
     ]
    }
   ],
   "source": [
    "# Select companies in Consumer Services\n",
    "consumer_services = listing_data[listing_data.Sector == 'Consumer Services']\n",
    "\n",
    "# Sort consumer_services by market cap\n",
    "consumer_services2 = consumer_services.sort_values('Market Capitalization', ascending=False)\n",
    "\n",
    "# Display first 5 rows of designated columns\n",
    "print(consumer_services2[['Company Name', 'Exchange', 'Market Capitalization']].head())"
   ]
  },
  {
   "cell_type": "code",
   "execution_count": null,
   "metadata": {
    "collapsed": true
   },
   "outputs": [],
   "source": []
  }
 ],
 "metadata": {
  "kernelspec": {
   "display_name": "Python 3",
   "language": "python",
   "name": "python3"
  },
  "language_info": {
   "codemirror_mode": {
    "name": "ipython",
    "version": 3
   },
   "file_extension": ".py",
   "mimetype": "text/x-python",
   "name": "python",
   "nbconvert_exporter": "python",
   "pygments_lexer": "ipython3",
   "version": "3.6.1"
  }
 },
 "nbformat": 4,
 "nbformat_minor": 2
}
